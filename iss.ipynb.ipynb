{
 "cells": [
  {
   "cell_type": "code",
   "execution_count": null,
   "id": "bb9c0fc8-f18e-4be2-8cdd-d162e28959fc",
   "metadata": {},
   "outputs": [],
   "source": [
    "import requests\n",
    "import time\n",
    "import matplotlib.pyplot as plt\n",
    "\n",
    "timestamps = []\n",
    "longs = []\n",
    "lats = []\n",
    "\n",
    "for i in range(0, 120):\n",
    "    response = requests.get(\"http://api.open-notify.org/iss-now.json\")\n",
    "    data = response.json()\n",
    "    longs.append(data['iss_position']['longitude'])\n",
    "    lats.append(data['iss_position']['latitude'])\n",
    "    timestamps.append(data['timestamp'])\n",
    "    time.sleep(10)\n",
    "    \n",
    "print(longs)\n",
    "print(lats)\n",
    "print(timestamps)\n"
   ]
  },
  {
   "cell_type": "code",
   "execution_count": null,
   "id": "fe4f7cbf",
   "metadata": {},
   "outputs": [],
   "source": [
    "latitude = [point[0] for point in lats]\n",
    "longitude = [point[1] for point in longs]\n",
    "\n",
    "plt.figure(figsize=(12, 6))\n",
    "plt.scatter(longitude, latitude, c=range(len(latitude)), cmap='viridis')\n",
    "plt.colorbar(label=\"Time\")\n",
    "plt.xlabel(\"Longitude\")\n",
    "plt.ylabel(\"Latitude\")\n",
    "plt.title(\"Path of the International Space Station\")\n",
    "plt.grid(True)\n",
    "plt.show()"
   ]
  }
 ],
 "metadata": {
  "kernelspec": {
   "display_name": "Python 3 (ipykernel)",
   "language": "python",
   "name": "python3"
  },
  "language_info": {
   "codemirror_mode": {
    "name": "ipython",
    "version": 3
   },
   "file_extension": ".py",
   "mimetype": "text/x-python",
   "name": "python",
   "nbconvert_exporter": "python",
   "pygments_lexer": "ipython3",
   "version": "3.10.9"
  }
 },
 "nbformat": 4,
 "nbformat_minor": 5
}
